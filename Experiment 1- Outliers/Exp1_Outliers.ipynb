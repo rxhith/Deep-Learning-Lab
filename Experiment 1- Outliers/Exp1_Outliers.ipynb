{
  "nbformat": 4,
  "nbformat_minor": 0,
  "metadata": {
    "colab": {
      "provenance": [],
      "authorship_tag": "ABX9TyNBER4AhIst1o8N0zUkff4N",
      "include_colab_link": true
    },
    "kernelspec": {
      "name": "python3",
      "display_name": "Python 3"
    },
    "language_info": {
      "name": "python"
    }
  },
  "cells": [
    {
      "cell_type": "markdown",
      "metadata": {
        "id": "view-in-github",
        "colab_type": "text"
      },
      "source": [
        "<a href=\"https://colab.research.google.com/github/rxhith/Deep-Learning-Lab/blob/main/Experiment%201-%20Outliers/Exp1_Outliers.ipynb\" target=\"_parent\"><img src=\"https://colab.research.google.com/assets/colab-badge.svg\" alt=\"Open In Colab\"/></a>"
      ]
    },
    {
      "cell_type": "code",
      "execution_count": 1,
      "metadata": {
        "colab": {
          "base_uri": "https://localhost:8080/",
          "height": 489
        },
        "id": "sObf0mOQIq_E",
        "outputId": "82bd051b-536b-4d21-c66c-693ed70b73fe"
      },
      "outputs": [
        {
          "output_type": "stream",
          "name": "stdout",
          "text": [
            "data_points [34, 2, 3, 43, 54, 67, 34, -175, 25, 26, 30, 242]\n"
          ]
        },
        {
          "output_type": "display_data",
          "data": {
            "text/plain": [
              "<Figure size 640x480 with 1 Axes>"
            ],
            "image/png": "[encoded data removed]"
          },
          "metadata": {}
        }
      ],
      "source": [
        "#using defined data\n",
        "import matplotlib.pyplot as plt\n",
        "import numpy as np\n",
        "\n",
        "data = [34, 2, 3, 43, 54, 67, 34, -175, 25, 26, 30, 242]\n",
        "print(\"data_points\", data)\n",
        "\n",
        "# Boxplot\n",
        "plt.boxplot(data, vert=False)\n",
        "plt.title(\"Detection of Outliers\")\n",
        "plt.xlabel(\"data points\")\n",
        "plt.show()"
      ]
    },
    {
      "cell_type": "code",
      "source": [
        "mean = np.mean(data)\n",
        "standard_deviation = np.std(data)\n",
        "print(\"Mean:\", mean)\n",
        "print(\"Standard Deviation:\", standard_deviation)\n",
        "\n",
        "# Display threshold for Z-score method\n",
        "threshold = 2\n",
        "print(\"Threshold (Z-score method):\", threshold)\n",
        "\n",
        "# Z-score method\n",
        "outliers_zscore = [i for i in data if np.abs((i - mean) / standard_deviation) > threshold]\n",
        "print(\"OUTLIERS (Z-score method):\", outliers_zscore)"
      ],
      "metadata": {
        "colab": {
          "base_uri": "https://localhost:8080/",
          "height": 0
        },
        "id": "J0Veoaw9I5tw",
        "outputId": "7da17d17-baa0-4de1-a1d2-299d7329952b"
      },
      "execution_count": 2,
      "outputs": [
        {
          "output_type": "stream",
          "name": "stdout",
          "text": [
            "Mean: 32.083333333333336\n",
            "Standard Deviation: 86.89884764611222\n",
            "Threshold (Z-score method): 2\n",
            "OUTLIERS (Z-score method): [-175, 242]\n"
          ]
        }
      ]
    },
    {
      "cell_type": "code",
      "source": [
        "# IQR method\n",
        "sample = np.sort(data)\n",
        "Q1 = np.percentile(sample, 25)\n",
        "Q3 = np.percentile(sample, 75)\n",
        "IQR = Q3 - Q1\n",
        "lower_bound = Q1 - 1.5 * IQR\n",
        "upper_bound = Q3 + 1.5 * IQR\n",
        "\n",
        "# Display Q1, Q3, IQR, lower bound, and upper bound\n",
        "print(\"Q1:\", Q1)\n",
        "print(\"Q3:\", Q3)\n",
        "print(\"IQR:\", IQR)\n",
        "print(\"Lower Bound:\", lower_bound)\n",
        "print(\"Upper Bound:\", upper_bound)\n",
        "\n",
        "# Display threshold for IQR method\n",
        "threshold_iqr = 1.5\n",
        "print(\"Threshold (IQR method):\", threshold_iqr)\n",
        "\n",
        "outliers_iqr = [i for i in sample if i < lower_bound or i > upper_bound]\n",
        "print(\"OUTLIERS (IQR method):\", outliers_iqr)\n"
      ],
      "metadata": {
        "colab": {
          "base_uri": "https://localhost:8080/",
          "height": 0
        },
        "id": "1HMW6hlDJAJG",
        "outputId": "c8020bfc-0e3d-4ef3-9a4f-13023127d442"
      },
      "execution_count": 3,
      "outputs": [
        {
          "output_type": "stream",
          "name": "stdout",
          "text": [
            "Q1: 19.5\n",
            "Q3: 45.75\n",
            "IQR: 26.25\n",
            "Lower Bound: -19.875\n",
            "Upper Bound: 85.125\n",
            "Threshold (IQR method): 1.5\n",
            "OUTLIERS (IQR method): [-175, 242]\n"
          ]
        }
      ]
    },
    {
      "cell_type": "markdown",
      "source": [
        "**USING IRIS DATASET**"
      ],
      "metadata": {
        "id": "ZrXIaILVJJY1"
      }
    },
    {
      "cell_type": "code",
      "source": [
        "from sklearn.datasets import load_iris\n",
        "import matplotlib.pyplot as plt\n",
        "import numpy as np\n",
        "\n",
        "# Load the Iris dataset\n",
        "iris_data = load_iris()\n",
        "data = iris_data.data[:, 1]\n",
        "print(\"data_points\", data)\n",
        "\n",
        "# Boxplot\n",
        "plt.boxplot(data, vert=False)\n",
        "plt.title(\"Detection of Outliers\")\n",
        "plt.xlabel(\"data points\")\n",
        "plt.show()\n",
        "\n",
        "# Display mean and standard deviation\n",
        "mean = np.mean(data)\n",
        "standard_deviation = np.std(data)\n",
        "print(\"Mean:\", mean)\n",
        "print(\"Standard Deviation:\", standard_deviation)\n",
        "\n",
        "# Display threshold for Z-score method\n",
        "threshold_zscore = 2\n",
        "print(\"Threshold (Z-score method):\", threshold_zscore)\n",
        "\n",
        "# Z-score method\n",
        "outliers_zscore = [i for i in data if np.abs((i - mean) / standard_deviation) > threshold_zscore]\n",
        "print(\"OUTLIERS (Z-score method):\", outliers_zscore)\n",
        "\n",
        "# IQR method\n",
        "Q1 = np.percentile(data, 25)\n",
        "Q3 = np.percentile(data, 75)\n",
        "IQR = Q3 - Q1\n",
        "lower_bound = Q1 - 1.5 * IQR\n",
        "upper_bound = Q3 + 1.5 * IQR\n",
        "\n",
        "# Display Q1, Q3, IQR, lower bound, and upper bound\n",
        "print(\"Q1:\", Q1)\n",
        "print(\"Q3:\", Q3)\n",
        "print(\"IQR:\", IQR)\n",
        "print(\"Lower Bound:\", lower_bound)\n",
        "print(\"Upper Bound:\", upper_bound)\n",
        "\n",
        "# Display threshold for IQR method\n",
        "threshold_iqr = 1.5\n",
        "print(\"Threshold (IQR method):\", threshold_iqr)\n",
        "\n",
        "outliers_iqr = [i for i in data if i < lower_bound or i > upper_bound]\n",
        "print(\"OUTLIERS (IQR method):\", outliers_iqr)\n"
      ],
      "metadata": {
        "colab": {
          "base_uri": "https://localhost:8080/",
          "height": 819
        },
        "id": "s63R6MY-JQMp",
        "outputId": "2c9a3e4f-b153-4d5e-fb16-f48996d8c9c6"
      },
      "execution_count": 4,
      "outputs": [
        {
          "output_type": "stream",
          "name": "stdout",
          "text": [
            "data_points [3.5 3.  3.2 3.1 3.6 3.9 3.4 3.4 2.9 3.1 3.7 3.4 3.  3.  4.  4.4 3.9 3.5\n",
            " 3.8 3.8 3.4 3.7 3.6 3.3 3.4 3.  3.4 3.5 3.4 3.2 3.1 3.4 4.1 4.2 3.1 3.2\n",
            " 3.5 3.6 3.  3.4 3.5 2.3 3.2 3.5 3.8 3.  3.8 3.2 3.7 3.3 3.2 3.2 3.1 2.3\n",
            " 2.8 2.8 3.3 2.4 2.9 2.7 2.  3.  2.2 2.9 2.9 3.1 3.  2.7 2.2 2.5 3.2 2.8\n",
            " 2.5 2.8 2.9 3.  2.8 3.  2.9 2.6 2.4 2.4 2.7 2.7 3.  3.4 3.1 2.3 3.  2.5\n",
            " 2.6 3.  2.6 2.3 2.7 3.  2.9 2.9 2.5 2.8 3.3 2.7 3.  2.9 3.  3.  2.5 2.9\n",
            " 2.5 3.6 3.2 2.7 3.  2.5 2.8 3.2 3.  3.8 2.6 2.2 3.2 2.8 2.8 2.7 3.3 3.2\n",
            " 2.8 3.  2.8 3.  2.8 3.8 2.8 2.8 2.6 3.  3.4 3.1 3.  3.1 3.1 3.1 2.7 3.2\n",
            " 3.3 3.  2.5 3.  3.4 3. ]\n"
          ]
        },
        {
          "output_type": "display_data",
          "data": {
            "text/plain": [
              "<Figure size 640x480 with 1 Axes>"
            ],
            "image/png": "[encoded data removed]"
          },
          "metadata": {}
        },
        {
          "output_type": "stream",
          "name": "stdout",
          "text": [
            "Mean: 3.0573333333333337\n",
            "Standard Deviation: 0.4344109677354946\n",
            "Threshold (Z-score method): 2\n",
            "OUTLIERS (Z-score method): [4.0, 4.4, 4.1, 4.2, 2.0]\n",
            "Q1: 2.8\n",
            "Q3: 3.3\n",
            "IQR: 0.5\n",
            "Lower Bound: 2.05\n",
            "Upper Bound: 4.05\n",
            "Threshold (IQR method): 1.5\n",
            "OUTLIERS (IQR method): [4.4, 4.1, 4.2, 2.0]\n"
          ]
        }
      ]
    }
  ]
}