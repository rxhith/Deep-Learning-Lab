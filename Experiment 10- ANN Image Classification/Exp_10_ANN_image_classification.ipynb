{
  "nbformat": 4,
  "nbformat_minor": 0,
  "metadata": {
    "colab": {
      "provenance": [],
      "authorship_tag": "ABX9TyPrzWpLnKS4zwBuTAxOmdKw",
      "include_colab_link": true
    },
    "kernelspec": {
      "name": "python3",
      "display_name": "Python 3"
    },
    "language_info": {
      "name": "python"
    }
  },
  "cells": [
    {
      "cell_type": "markdown",
      "metadata": {
        "id": "view-in-github",
        "colab_type": "text"
      },
      "source": [
        "<a href=\"https://colab.research.google.com/github/rxhith/Deep-Learning-Lab/blob/main/Experiment%2010-%20ANN%20Image%20Classification/Exp_10_ANN_image_classification.ipynb\" target=\"_parent\"><img src=\"https://colab.research.google.com/assets/colab-badge.svg\" alt=\"Open In Colab\"/></a>"
      ]
    },
    {
      "cell_type": "code",
      "execution_count": 1,
      "metadata": {
        "colab": {
          "base_uri": "https://localhost:8080/"
        },
        "id": "QoaCSLXdTxVW",
        "outputId": "cfb4a17a-4b45-4f8a-d104-d381566fc8a9"
      },
      "outputs": [
        {
          "output_type": "stream",
          "name": "stdout",
          "text": [
            "Downloading data from https://storage.googleapis.com/tensorflow/tf-keras-datasets/train-labels-idx1-ubyte.gz\n",
            "29515/29515 [==============================] - 0s 0us/step\n",
            "Downloading data from https://storage.googleapis.com/tensorflow/tf-keras-datasets/train-images-idx3-ubyte.gz\n",
            "26421880/26421880 [==============================] - 0s 0us/step\n",
            "Downloading data from https://storage.googleapis.com/tensorflow/tf-keras-datasets/t10k-labels-idx1-ubyte.gz\n",
            "5148/5148 [==============================] - 0s 0us/step\n",
            "Downloading data from https://storage.googleapis.com/tensorflow/tf-keras-datasets/t10k-images-idx3-ubyte.gz\n",
            "4422102/4422102 [==============================] - 0s 0us/step\n"
          ]
        }
      ],
      "source": [
        "import matplotlib as mpl\n",
        "import matplotlib.pyplot as plt\n",
        "import tensorflow as tf\n",
        "from tensorflow import keras\n",
        "fashion_mnist = keras.datasets.fashion_mnist\n",
        "(X_train_full, y_train_full), (X_test, y_test) = fashion_mnist.load_data()"
      ]
    },
    {
      "cell_type": "code",
      "source": [
        "X_valid, X_train = X_train_full[:5000] / 255., X_train_full[5000:] / 255.\n",
        "y_valid, y_train = y_train_full[:5000], y_train_full[5000:]\n",
        "X_test = X_test / 255."
      ],
      "metadata": {
        "id": "vSqcpDJMT1P3"
      },
      "execution_count": 2,
      "outputs": []
    },
    {
      "cell_type": "code",
      "source": [
        "class_names = [\"T-shirt/top\", \"Trouser\", \"Pullover\", \"Dress\", \"Coat\",\n",
        "\"Sandal\", \"Shirt\", \"Sneaker\", \"Bag\", \"Ankle boot\"]"
      ],
      "metadata": {
        "id": "Pu5XBivQT2D1"
      },
      "execution_count": 3,
      "outputs": []
    },
    {
      "cell_type": "code",
      "source": [
        "model = keras.models.Sequential()\n",
        "model.add(keras.layers.Flatten(input_shape=[28, 28]))\n",
        "model.add(keras.layers.Dense(300, activation=\"relu\"))\n",
        "model.add(keras.layers.Dense(100, activation=\"relu\"))\n",
        "model.add(keras.layers.Dense(10, activation=\"softmax\"))"
      ],
      "metadata": {
        "id": "tVtO3Em0T7zC"
      },
      "execution_count": 4,
      "outputs": []
    },
    {
      "cell_type": "code",
      "source": [
        "model.compile(loss=\"sparse_categorical_crossentropy\",\n",
        "optimizer=\"adam\",\n",
        "metrics=[\"accuracy\"])"
      ],
      "metadata": {
        "id": "P6wHaSt3UBYn"
      },
      "execution_count": 5,
      "outputs": []
    },
    {
      "cell_type": "code",
      "source": [
        "history = model.fit(X_train, y_train, epochs=10,validation_data=(X_valid, y_valid))"
      ],
      "metadata": {
        "colab": {
          "base_uri": "https://localhost:8080/"
        },
        "id": "3sdrNkj_UE4E",
        "outputId": "c5eeb497-b87a-4aa9-d24d-546e146dfdf3"
      },
      "execution_count": 6,
      "outputs": [
        {
          "output_type": "stream",
          "name": "stdout",
          "text": [
            "Epoch 1/10\n",
            "1719/1719 [==============================] - 12s 6ms/step - loss: 0.4889 - accuracy: 0.8243 - val_loss: 0.3793 - val_accuracy: 0.8654\n",
            "Epoch 2/10\n",
            "1719/1719 [==============================] - 11s 7ms/step - loss: 0.3646 - accuracy: 0.8659 - val_loss: 0.3583 - val_accuracy: 0.8694\n",
            "Epoch 3/10\n",
            "1719/1719 [==============================] - 16s 9ms/step - loss: 0.3281 - accuracy: 0.8784 - val_loss: 0.3275 - val_accuracy: 0.8792\n",
            "Epoch 4/10\n",
            "1719/1719 [==============================] - 24s 14ms/step - loss: 0.3039 - accuracy: 0.8867 - val_loss: 0.3050 - val_accuracy: 0.8866\n",
            "Epoch 5/10\n",
            "1719/1719 [==============================] - 14s 8ms/step - loss: 0.2843 - accuracy: 0.8939 - val_loss: 0.2990 - val_accuracy: 0.8886\n",
            "Epoch 6/10\n",
            "1719/1719 [==============================] - 11s 7ms/step - loss: 0.2714 - accuracy: 0.8969 - val_loss: 0.3112 - val_accuracy: 0.8878\n",
            "Epoch 7/10\n",
            "1719/1719 [==============================] - 11s 6ms/step - loss: 0.2608 - accuracy: 0.9022 - val_loss: 0.3375 - val_accuracy: 0.8776\n",
            "Epoch 8/10\n",
            "1719/1719 [==============================] - 10s 6ms/step - loss: 0.2461 - accuracy: 0.9070 - val_loss: 0.2967 - val_accuracy: 0.8952\n",
            "Epoch 9/10\n",
            "1719/1719 [==============================] - 11s 6ms/step - loss: 0.2372 - accuracy: 0.9099 - val_loss: 0.3009 - val_accuracy: 0.8932\n",
            "Epoch 10/10\n",
            "1719/1719 [==============================] - 11s 6ms/step - loss: 0.2287 - accuracy: 0.9123 - val_loss: 0.3177 - val_accuracy: 0.8836\n"
          ]
        }
      ]
    },
    {
      "cell_type": "code",
      "source": [
        "import numpy as np\n",
        "random_indices = np.random.choice(X_test.shape[0], 4, replace=False)\n",
        "# Create a subplot to display the images and labels\n",
        "plt.figure(figsize=(12, 8))\n",
        "for i, idx in enumerate(random_indices):\n",
        "  plt.subplot(2, 2, i + 1)\n",
        "  plt.imshow(X_test[idx], cmap='gray')\n",
        "  plt.axis('off')\n",
        "  true_label = class_names[y_test[idx]]\n",
        "  # Make predictions for the selected image\n",
        "  prediction = model.predict(X_test[idx:idx+1])\n",
        "  predicted_label = class_names[np.argmax(prediction)]\n",
        "  plt.title(f\"True: {true_label}\\nPredicted: {predicted_label}\")\n",
        "plt.show()"
      ],
      "metadata": {
        "colab": {
          "base_uri": "https://localhost:8080/",
          "height": 765
        },
        "id": "y4ttKuneUMxf",
        "outputId": "125a07ca-f7f5-4381-e0c1-7d7bf4a469c4"
      },
      "execution_count": 7,
      "outputs": [
        {
          "output_type": "stream",
          "name": "stdout",
          "text": [
            "1/1 [==============================] - 0s 102ms/step\n",
            "1/1 [==============================] - 0s 20ms/step\n",
            "1/1 [==============================] - 0s 21ms/step\n",
            "1/1 [==============================] - 0s 21ms/step\n"
          ]
        },
        {
          "output_type": "display_data",
          "data": {
            "text/plain": [
              "<Figure size 1200x800 with 4 Axes>"
            ],
            "image/png": "[encoded data removed]"
          },
          "metadata": {}
        }
      ]
    }
  ]
}