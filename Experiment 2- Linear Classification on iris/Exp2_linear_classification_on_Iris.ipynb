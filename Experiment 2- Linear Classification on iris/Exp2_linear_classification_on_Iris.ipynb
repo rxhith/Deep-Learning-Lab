{
  "cells": [
    {
      "cell_type": "markdown",
      "metadata": {
        "id": "view-in-github",
        "colab_type": "text"
      },
      "source": [
        "<a href=\"https://colab.research.google.com/github/rxhith/Deep-Learning-Lab/blob/main/Experiment%202-%20Linear%20Classification%20on%20iris/Exp2_linear_classification_on_Iris.ipynb\" target=\"_parent\"><img src=\"https://colab.research.google.com/assets/colab-badge.svg\" alt=\"Open In Colab\"/></a>"
      ]
    },
    {
      "cell_type": "code",
      "execution_count": null,
      "id": "230fee6e",
      "metadata": {
        "id": "230fee6e",
        "outputId": "1fd837b1-718c-405a-a705-50683b7831f7"
      },
      "outputs": [
        {
          "name": "stderr",
          "output_type": "stream",
          "text": [
            "C:\\Users\\ROHITH SYAM\\anaconda3\\New folder\\lib\\site-packages\\scipy\\__init__.py:155: UserWarning: A NumPy version >=1.18.5 and <1.25.0 is required for this version of SciPy (detected version 1.26.2\n",
            "  warnings.warn(f\"A NumPy version >={np_minversion} and <{np_maxversion}\"\n"
          ]
        }
      ],
      "source": [
        "#works\n",
        "\n",
        "import numpy\n",
        "from sklearn import datasets\n",
        "from sklearn.model_selection import train_test_split\n",
        "from sklearn.svm import SVC\n",
        "from sklearn.linear_model import LogisticRegression\n",
        "from sklearn.ensemble import RandomForestClassifier\n",
        "from sklearn.metrics import accuracy_score"
      ]
    },
    {
      "cell_type": "code",
      "execution_count": null,
      "id": "8efda840",
      "metadata": {
        "id": "8efda840"
      },
      "outputs": [],
      "source": [
        "iris=datasets.load_iris()\n",
        "X=iris.data\n",
        "y=iris.target\n",
        "X_train,X_test,y_train,y_test=train_test_split(X,y,test_size=0.4, random_state=42)"
      ]
    },
    {
      "cell_type": "code",
      "execution_count": null,
      "id": "43331383",
      "metadata": {
        "id": "43331383"
      },
      "outputs": [],
      "source": [
        "lr_classifier=LogisticRegression(max_iter=1000)\n",
        "svm_classifier=SVC()\n",
        "rf_classifier=RandomForestClassifier(random_state=42)"
      ]
    },
    {
      "cell_type": "code",
      "execution_count": null,
      "id": "c69f8aaf",
      "metadata": {
        "id": "c69f8aaf",
        "outputId": "e315d5cd-d4d5-40f8-a32d-0e9350219631"
      },
      "outputs": [
        {
          "data": {
            "text/plain": [
              "RandomForestClassifier(random_state=42)"
            ]
          },
          "execution_count": 4,
          "metadata": {},
          "output_type": "execute_result"
        }
      ],
      "source": [
        "lr_classifier.fit(X_train,y_train)\n",
        "svm_classifier.fit(X_train,y_train)\n",
        "rf_classifier.fit(X_train,y_train)"
      ]
    },
    {
      "cell_type": "code",
      "execution_count": null,
      "id": "aa63a3e9",
      "metadata": {
        "id": "aa63a3e9"
      },
      "outputs": [],
      "source": [
        "y_pred_lr=lr_classifier.predict(X_test)\n",
        "y_pred_svm=svm_classifier.predict(X_test)\n",
        "y_pred_rf=rf_classifier.predict(X_test)"
      ]
    },
    {
      "cell_type": "code",
      "execution_count": null,
      "id": "9d0067ae",
      "metadata": {
        "id": "9d0067ae"
      },
      "outputs": [],
      "source": [
        "acc_lr = accuracy_score(y_test, y_pred_lr) * 100\n",
        "acc_svm = accuracy_score(y_test, y_pred_svm) * 100\n",
        "acc_rf = accuracy_score(y_test, y_pred_rf) * 100"
      ]
    },
    {
      "cell_type": "code",
      "execution_count": null,
      "id": "6770ae4c",
      "metadata": {
        "id": "6770ae4c",
        "outputId": "d5a068f4-9544-4eb6-d1e9-445a769b9214"
      },
      "outputs": [
        {
          "name": "stdout",
          "output_type": "stream",
          "text": [
            "Accuracy of Logistic Regression: 100.00%\n",
            "Accuracy of SVM: 100.00%\n",
            "Accuracy of Random Forest: 98.33%\n"
          ]
        }
      ],
      "source": [
        "print(\"Accuracy of Logistic Regression:\", f\"{acc_lr:.2f}%\")\n",
        "print(\"Accuracy of SVM:\", f\"{acc_svm:.2f}%\")\n",
        "print(\"Accuracy of Random Forest:\", f\"{acc_rf:.2f}%\")"
      ]
    },
    {
      "cell_type": "code",
      "execution_count": null,
      "id": "499a2f66",
      "metadata": {
        "id": "499a2f66"
      },
      "outputs": [],
      "source": []
    }
  ],
  "metadata": {
    "kernelspec": {
      "display_name": "Python 3 (ipykernel)",
      "language": "python",
      "name": "python3"
    },
    "language_info": {
      "codemirror_mode": {
        "name": "ipython",
        "version": 3
      },
      "file_extension": ".py",
      "mimetype": "text/x-python",
      "name": "python",
      "nbconvert_exporter": "python",
      "pygments_lexer": "ipython3",
      "version": "3.9.13"
    },
    "colab": {
      "provenance": [],
      "include_colab_link": true
    }
  },
  "nbformat": 4,
  "nbformat_minor": 5
}