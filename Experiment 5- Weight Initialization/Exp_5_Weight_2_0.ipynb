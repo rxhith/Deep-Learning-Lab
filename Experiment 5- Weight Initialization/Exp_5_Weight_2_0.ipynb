{
  "nbformat": 4,
  "nbformat_minor": 0,
  "metadata": {
    "colab": {
      "provenance": [],
      "authorship_tag": "ABX9TyP0U+zohOP8qjX4l047zTSB",
      "include_colab_link": true
    },
    "kernelspec": {
      "name": "python3",
      "display_name": "Python 3"
    },
    "language_info": {
      "name": "python"
    }
  },
  "cells": [
    {
      "cell_type": "markdown",
      "metadata": {
        "id": "view-in-github",
        "colab_type": "text"
      },
      "source": [
        "<a href=\"https://colab.research.google.com/github/rxhith/Deep-Learning-Lab/blob/main/Experiment%205-%20Weight%20Initialization/Exp_5_Weight_2_0.ipynb\" target=\"_parent\"><img src=\"https://colab.research.google.com/assets/colab-badge.svg\" alt=\"Open In Colab\"/></a>"
      ]
    },
    {
      "cell_type": "code",
      "execution_count": null,
      "metadata": {
        "id": "UGNYzCQhxQpB"
      },
      "outputs": [],
      "source": []
    },
    {
      "cell_type": "code",
      "source": [
        "import numpy as np\n",
        "import matplotlib.pyplot as plt\n",
        "from tensorflow.keras.datasets import cifar10\n",
        "from tensorflow.keras.utils import to_categorical\n",
        "from tensorflow.keras.models import Sequential\n",
        "from tensorflow.keras.layers import Flatten, Dense, Dropout\n",
        "from tensorflow.keras.optimizers import Adam\n",
        "from tensorflow.keras.initializers import HeNormal, GlorotNormal\n",
        "from tensorflow.keras import regularizers\n",
        "\n",
        "# Load CIFAR-10 dataset\n",
        "(train_images, train_labels), (test_images, test_labels) = cifar10.load_data()\n",
        "train_images, test_images = train_images / 255.0, test_images / 255.0\n",
        "\n",
        "# Convert labels to categorical\n",
        "train_labels, test_labels = to_categorical(train_labels, num_classes=10), to_categorical(test_labels, num_classes=10)\n",
        "\n",
        "# Function to create a model\n",
        "def create_model(initializer, regularizer, dropout_rate=None):\n",
        "    model = Sequential([\n",
        "        Flatten(input_shape=(32, 32, 3)),\n",
        "        Dense(512, activation='relu', kernel_initializer=initializer, kernel_regularizer=regularizer),\n",
        "        Dense(256, activation='relu', kernel_initializer=initializer, kernel_regularizer=regularizer),\n",
        "        Dense(10, activation='softmax', kernel_initializer=initializer)\n",
        "    ])\n",
        "    if dropout_rate:\n",
        "        model.add(Dropout(dropout_rate))\n",
        "    model.compile(optimizer='adam', loss='categorical_crossentropy', metrics=['accuracy'])\n",
        "    return model\n",
        "\n",
        "# Initialize models using Xavier/Glorot and Kaiming/He initializers\n",
        "xavier_model = create_model(GlorotNormal(), regularizers.l2(0.001))\n",
        "kaiming_model = create_model(HeNormal(), regularizers.l2(0.001))\n",
        "\n",
        "# Train both models and store the training history\n",
        "epochs = 10\n",
        "xavier_history = xavier_model.fit(train_images, train_labels, epochs=epochs, validation_data=(test_images, test_labels))\n",
        "kaiming_history = kaiming_model.fit(train_images, train_labels, epochs=epochs, validation_data=(test_images, test_labels))\n"
      ],
      "metadata": {
        "id": "YgJCKH1Px4T8"
      },
      "execution_count": null,
      "outputs": []
    }
  ]
}